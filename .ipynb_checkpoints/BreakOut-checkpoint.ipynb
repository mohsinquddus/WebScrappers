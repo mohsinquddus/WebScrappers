{
 "cells": [
  {
   "cell_type": "code",
   "execution_count": 1,
   "id": "cb994f8d",
   "metadata": {},
   "outputs": [],
   "source": [
    "import requests\n",
    "import bs4\n",
    "from bs4 import BeautifulSoup\n",
    "import pandas as pd\n",
    "import time\n",
    "import numpy as np\n",
    "from selenium import webdriver\n",
    "import pathlib\n",
    "import warnings\n",
    "from selenium import webdriver\n",
    "from webdriver_manager.chrome import ChromeDriverManager\n",
    "warnings.filterwarnings(\"ignore\")"
   ]
  },
  {
   "cell_type": "code",
   "execution_count": 2,
   "id": "3f4e1e4d",
   "metadata": {},
   "outputs": [],
   "source": [
    "# def get_soup(url):\n",
    "#     responce=requests.get(url)\n",
    "#     html=responce.text\n",
    "#     soup = BeautifulSoup(html, 'html.parser')\n",
    "#     return soup"
   ]
  },
  {
   "cell_type": "code",
   "execution_count": 3,
   "id": "ce7b3fed",
   "metadata": {},
   "outputs": [],
   "source": [
    "def get_soup_selinium(url):  \n",
    "    try:\n",
    "        options = webdriver.ChromeOptions()\n",
    "        options.add_argument('--ignore-certificate-errors')\n",
    "        options.add_argument('--headless')\n",
    "        options.add_argument(\"--disable-dev-shm-usage\")\n",
    "        options.add_argument(\"--no-sandbox\")\n",
    "#         driver = webdriver.Firefox(options=options)\n",
    "        driver = webdriver.Chrome(\"chromedriver.exe\",options=options)\n",
    "        driver.get(url)\n",
    "        driver.execute_script(\"window.scrollTo(0,document.body.scrollHeight)\")\n",
    "        time.sleep(3)\n",
    "        # driver.maximize_window() # For maximizing window\n",
    "        # driver.implicitly_wait(20)\n",
    "        page = driver.page_source\n",
    "        soup = BeautifulSoup(page, \"lxml\")\n",
    "        driver.close()\n",
    "        driver.quit()\n",
    "        return soup\n",
    "    except Exception as e:\n",
    "        print('Error Fetching data',e)"
   ]
  },
  {
   "cell_type": "code",
   "execution_count": 31,
   "id": "28fd2d1c",
   "metadata": {},
   "outputs": [],
   "source": [
    "def get_detail(soup,pname):\n",
    "    product_deatil={pname:[],f'Price_{pname}':[]}\n",
    "    for i in soup:\n",
    "        try:\n",
    "            name=i.find('a').text\n",
    "            try:\n",
    "                price=i.find('span',attrs={'class':'old-price'}).text\n",
    "                if price == \"\":\n",
    "                    raise Exception\n",
    "            except:\n",
    "    #         if \"old-price hide\" in i:\n",
    "                price=i.find('div',attrs={'class':'pt-price'}).text.split(' ')[-1]\n",
    "            product_deatil[pname].append(name)\n",
    "            product_deatil[f'Price_{pname}'].append(price)\n",
    "        except:\n",
    "            pass\n",
    "    return pd.DataFrame(product_deatil)"
   ]
  },
  {
   "cell_type": "code",
   "execution_count": 32,
   "id": "1813c0e4",
   "metadata": {},
   "outputs": [],
   "source": [
    "Tees=\"https://breakout.com.pk/collections/men-tees?view=all\"\n",
    "# soup_tees=get_soup(Tees)\n",
    "soup_tees=get_soup_selinium(Tees)\n",
    "flex_tees=soup_tees.find_all('div',attrs={'class':'pt-description'})[1:]\n",
    "df_Tees=get_detail(flex_tees,\"Tees\")"
   ]
  },
  {
   "cell_type": "code",
   "execution_count": 34,
   "id": "894b7028",
   "metadata": {},
   "outputs": [],
   "source": [
    "Polo=\"https://breakout.com.pk/collections/men-polos?view=all\"\n",
    "# soup_polo=get_soup(polo)\n",
    "soup_polo=get_soup_selinium(Polo)\n",
    "flex_polo=soup_polo.find_all('div',attrs={'class':'pt-description'})[1:]\n",
    "df_Polo=get_detail(flex_polo,\"Polo\")"
   ]
  },
  {
   "cell_type": "code",
   "execution_count": 35,
   "id": "98c01b67",
   "metadata": {},
   "outputs": [],
   "source": [
    "Jeans=\"https://breakout.com.pk/collections/men-denim?view=all\"\n",
    "# soup_polo=get_soup(polo)\n",
    "soup_Jeans=get_soup_selinium(Jeans)\n",
    "flex_Jeans=soup_Jeans.find_all('div',attrs={'class':'pt-description'})[1:]\n",
    "df_Jeans=get_detail(flex_Jeans,\"Jeans\")"
   ]
  },
  {
   "cell_type": "code",
   "execution_count": 50,
   "id": "9bd3ad3d",
   "metadata": {},
   "outputs": [],
   "source": [
    "pd.concat([df_Tees, df_Jeans, df_Polo,], axis=1).to_excel(\"BreakOut.xlsx\",index=False)"
   ]
  }
 ],
 "metadata": {
  "kernelspec": {
   "display_name": "Python 3 (ipykernel)",
   "language": "python",
   "name": "python3"
  },
  "language_info": {
   "codemirror_mode": {
    "name": "ipython",
    "version": 3
   },
   "file_extension": ".py",
   "mimetype": "text/x-python",
   "name": "python",
   "nbconvert_exporter": "python",
   "pygments_lexer": "ipython3",
   "version": "3.9.12"
  }
 },
 "nbformat": 4,
 "nbformat_minor": 5
}
