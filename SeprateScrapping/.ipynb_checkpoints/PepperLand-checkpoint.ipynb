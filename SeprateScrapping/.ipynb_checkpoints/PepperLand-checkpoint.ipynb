{
 "cells": [
  {
   "cell_type": "code",
   "execution_count": 7,
   "id": "39534e10",
   "metadata": {},
   "outputs": [],
   "source": [
    "import functions\n",
    "import pandas as pd\n",
    "import numpy as np\n",
    "from selenium import webdriver\n",
    "import requests\n",
    "from bs4 import BeautifulSoup\n",
    "import time\n",
    "import threading"
   ]
  },
  {
   "cell_type": "code",
   "execution_count": 13,
   "id": "1ff6508b",
   "metadata": {},
   "outputs": [],
   "source": [
    "def get_detail(soup,pname):\n",
    "    product_deatil={pname:[],f'Price_{pname}':[]}\n",
    "    flex_tees = soup.find_all('div', attrs={'class': 'product-bottom'})\n",
    "    for box in flex_tees[1:]:\n",
    "        name=box.find('h3').text\n",
    "        price=box.find('div',attrs={'class':'price-box'}).text.split('PKR')[-1].strip()\n",
    "        product_deatil[pname].append(name)\n",
    "        product_deatil[f'Price_{pname}'].append(price)\n",
    "    return pd.DataFrame(product_deatil)"
   ]
  },
  {
   "cell_type": "code",
   "execution_count": 14,
   "id": "6e79fd63",
   "metadata": {},
   "outputs": [],
   "source": [
    "def get_values(key,value):\n",
    "    soup = functions.get_soup_from_selenium(value)\n",
    "    df_new = get_detail(soup,key)\n",
    "    if not os.path.exists(\"Pepperland.csv\"):\n",
    "        df_new.to_csv(\"Pepperland.csv\",index=False)\n",
    "    else:\n",
    "        df_old=pd.read_csv(\"Pepperland.csv\")\n",
    "        df3=pd.concat([df_old,df_new], axis=1)\n",
    "        df3.to_csv(\"Pepperland.csv\",index=False)"
   ]
  },
  {
   "cell_type": "code",
   "execution_count": 15,
   "id": "586a6c56",
   "metadata": {},
   "outputs": [],
   "source": [
    "def process_links(links_dct):\n",
    "    df_list=[]\n",
    "    thread_list = []\n",
    "    results = []\n",
    "    for key,value in links_dct.items():\n",
    "        thread = threading.Thread(target=get_values, args=(key,value))\n",
    "        thread_list.append(thread)\n",
    "        thread.start()\n",
    "        print(\"-\",end=\" \")\n",
    "    for thread in thread_list:\n",
    "        thread.join()\n"
   ]
  },
  {
   "cell_type": "code",
   "execution_count": 17,
   "id": "2febb11d",
   "metadata": {},
   "outputs": [
    {
     "data": {
      "application/javascript": [
       "\n",
       "        if (window._pyforest_update_imports_cell) { window._pyforest_update_imports_cell('import os'); }\n",
       "    "
      ],
      "text/plain": [
       "<IPython.core.display.Javascript object>"
      ]
     },
     "metadata": {},
     "output_type": "display_data"
    },
    {
     "name": "stdout",
     "output_type": "stream",
     "text": [
      "- - - - - - - - - - - - - - - - - - - - "
     ]
    },
    {
     "data": {
      "application/javascript": [
       "\n",
       "        if (window._pyforest_update_imports_cell) { window._pyforest_update_imports_cell('import os'); }\n",
       "    "
      ],
      "text/plain": [
       "<IPython.core.display.Javascript object>"
      ]
     },
     "metadata": {},
     "output_type": "display_data"
    },
    {
     "data": {
      "application/javascript": [
       "\n",
       "        if (window._pyforest_update_imports_cell) { window._pyforest_update_imports_cell('import os'); }\n",
       "    "
      ],
      "text/plain": [
       "<IPython.core.display.Javascript object>"
      ]
     },
     "metadata": {},
     "output_type": "display_data"
    },
    {
     "data": {
      "application/javascript": [
       "\n",
       "        if (window._pyforest_update_imports_cell) { window._pyforest_update_imports_cell('import os'); }\n",
       "    "
      ],
      "text/plain": [
       "<IPython.core.display.Javascript object>"
      ]
     },
     "metadata": {},
     "output_type": "display_data"
    },
    {
     "data": {
      "application/javascript": [
       "\n",
       "        if (window._pyforest_update_imports_cell) { window._pyforest_update_imports_cell('import os'); }\n",
       "    "
      ],
      "text/plain": [
       "<IPython.core.display.Javascript object>"
      ]
     },
     "metadata": {},
     "output_type": "display_data"
    },
    {
     "data": {
      "application/javascript": [
       "\n",
       "        if (window._pyforest_update_imports_cell) { window._pyforest_update_imports_cell('import os'); }\n",
       "    "
      ],
      "text/plain": [
       "<IPython.core.display.Javascript object>"
      ]
     },
     "metadata": {},
     "output_type": "display_data"
    },
    {
     "data": {
      "application/javascript": [
       "\n",
       "        if (window._pyforest_update_imports_cell) { window._pyforest_update_imports_cell('import os'); }\n",
       "    "
      ],
      "text/plain": [
       "<IPython.core.display.Javascript object>"
      ]
     },
     "metadata": {},
     "output_type": "display_data"
    },
    {
     "data": {
      "application/javascript": [
       "\n",
       "        if (window._pyforest_update_imports_cell) { window._pyforest_update_imports_cell('import os'); }\n",
       "    "
      ],
      "text/plain": [
       "<IPython.core.display.Javascript object>"
      ]
     },
     "metadata": {},
     "output_type": "display_data"
    },
    {
     "data": {
      "application/javascript": [
       "\n",
       "        if (window._pyforest_update_imports_cell) { window._pyforest_update_imports_cell('import os'); }\n",
       "    "
      ],
      "text/plain": [
       "<IPython.core.display.Javascript object>"
      ]
     },
     "metadata": {},
     "output_type": "display_data"
    },
    {
     "data": {
      "application/javascript": [
       "\n",
       "        if (window._pyforest_update_imports_cell) { window._pyforest_update_imports_cell('import os'); }\n",
       "    "
      ],
      "text/plain": [
       "<IPython.core.display.Javascript object>"
      ]
     },
     "metadata": {},
     "output_type": "display_data"
    },
    {
     "data": {
      "application/javascript": [
       "\n",
       "        if (window._pyforest_update_imports_cell) { window._pyforest_update_imports_cell('import os'); }\n",
       "    "
      ],
      "text/plain": [
       "<IPython.core.display.Javascript object>"
      ]
     },
     "metadata": {},
     "output_type": "display_data"
    },
    {
     "data": {
      "application/javascript": [
       "\n",
       "        if (window._pyforest_update_imports_cell) { window._pyforest_update_imports_cell('import os'); }\n",
       "    "
      ],
      "text/plain": [
       "<IPython.core.display.Javascript object>"
      ]
     },
     "metadata": {},
     "output_type": "display_data"
    },
    {
     "data": {
      "application/javascript": [
       "\n",
       "        if (window._pyforest_update_imports_cell) { window._pyforest_update_imports_cell('import os'); }\n",
       "    "
      ],
      "text/plain": [
       "<IPython.core.display.Javascript object>"
      ]
     },
     "metadata": {},
     "output_type": "display_data"
    },
    {
     "data": {
      "application/javascript": [
       "\n",
       "        if (window._pyforest_update_imports_cell) { window._pyforest_update_imports_cell('import os'); }\n",
       "    "
      ],
      "text/plain": [
       "<IPython.core.display.Javascript object>"
      ]
     },
     "metadata": {},
     "output_type": "display_data"
    },
    {
     "data": {
      "application/javascript": [
       "\n",
       "        if (window._pyforest_update_imports_cell) { window._pyforest_update_imports_cell('import os'); }\n",
       "    "
      ],
      "text/plain": [
       "<IPython.core.display.Javascript object>"
      ]
     },
     "metadata": {},
     "output_type": "display_data"
    },
    {
     "data": {
      "application/javascript": [
       "\n",
       "        if (window._pyforest_update_imports_cell) { window._pyforest_update_imports_cell('import os'); }\n",
       "    "
      ],
      "text/plain": [
       "<IPython.core.display.Javascript object>"
      ]
     },
     "metadata": {},
     "output_type": "display_data"
    },
    {
     "data": {
      "application/javascript": [
       "\n",
       "        if (window._pyforest_update_imports_cell) { window._pyforest_update_imports_cell('import os'); }\n",
       "    "
      ],
      "text/plain": [
       "<IPython.core.display.Javascript object>"
      ]
     },
     "metadata": {},
     "output_type": "display_data"
    },
    {
     "data": {
      "application/javascript": [
       "\n",
       "        if (window._pyforest_update_imports_cell) { window._pyforest_update_imports_cell('import os'); }\n",
       "    "
      ],
      "text/plain": [
       "<IPython.core.display.Javascript object>"
      ]
     },
     "metadata": {},
     "output_type": "display_data"
    },
    {
     "data": {
      "application/javascript": [
       "\n",
       "        if (window._pyforest_update_imports_cell) { window._pyforest_update_imports_cell('import os'); }\n",
       "    "
      ],
      "text/plain": [
       "<IPython.core.display.Javascript object>"
      ]
     },
     "metadata": {},
     "output_type": "display_data"
    },
    {
     "data": {
      "application/javascript": [
       "\n",
       "        if (window._pyforest_update_imports_cell) { window._pyforest_update_imports_cell('import os'); }\n",
       "    "
      ],
      "text/plain": [
       "<IPython.core.display.Javascript object>"
      ]
     },
     "metadata": {},
     "output_type": "display_data"
    },
    {
     "data": {
      "application/javascript": [
       "\n",
       "        if (window._pyforest_update_imports_cell) { window._pyforest_update_imports_cell('import os'); }\n",
       "    "
      ],
      "text/plain": [
       "<IPython.core.display.Javascript object>"
      ]
     },
     "metadata": {},
     "output_type": "display_data"
    }
   ],
   "source": [
    "if os.path.exists(\"PepperLand.csv\"):\n",
    "    os.remove(\"PepperLand.csv\")\n",
    "categoryname_links_dct={'boys-t-shirts-and-sweat-shirts':\"https://pepperland.pk/collections/boys-t-shirts-and-sweat-shirts\",\n",
    "                        'boys-sweaters-and-hoodies':\"https://pepperland.pk/collections/boys-sweaters-and-hoodies\", \n",
    "                       'boys-shirts':\"https://pepperland.pk/collections/boys-shirts\",\n",
    "                        'boys-trousers':\"https://pepperland.pk/collections/boys-trousers\",\n",
    "                        'boys-night-suits':\"https://pepperland.pk/collections/boys-night-suits\",\n",
    "                        'boys-sweat-shirt-jackets':\"https://pepperland.pk/collections/boys-sweat-shirt-jackets\",\n",
    "                        'boys-jeans':\"https://pepperland.pk/collections/boys-jeans\",\n",
    "                        'girls-t-shirts-and-sweat-shirts':\"https://pepperland.pk/collections/girls-t-shirts-and-sweat-shirts\",\n",
    "                        'girls-sweaters-and-hoodies':\"https://pepperland.pk/collections/girls-sweaters-and-hoodies\",\n",
    "                        'girls-sweat-shirt-jackets':\"https://pepperland.pk/collections/girls-sweat-shirt-jackets\",\n",
    "                        'girls-tops-and-dresses':\"https://pepperland.pk/collections/girls-tops-and-dresses\",\n",
    "                        'girls-scarfs':\"https://pepperland.pk/collections/girls-scarfs\",\n",
    "                        'girls-jeans':\"https://pepperland.pk/collections/girls-jeans\",\n",
    "                        'girls-tights':\"https://pepperland.pk/collections/girls-tights\",\n",
    "                        'girls-night-suits':\"https://pepperland.pk/collections/girls-night-suits\",\n",
    "                        'girls-party-dresses':\"https://pepperland.pk/collections/girls-party-dresses\",\n",
    "                        'girls-trousers':\"https://pepperland.pk/collections/girls-trousers\",\n",
    "                        'girls-skirts-and-shorts':\"https://pepperland.pk/collections/girls-skirts-and-shorts\", \n",
    "                        'girls-east':\"https://pepperland.pk/collections/girls-east\",\n",
    "                        'boys-east':\"https://pepperland.pk/collections/boys-east\",\n",
    "                       }\n",
    "process_links(categoryname_links_dct)"
   ]
  },
  {
   "cell_type": "code",
   "execution_count": null,
   "id": "30812330",
   "metadata": {},
   "outputs": [],
   "source": []
  }
 ],
 "metadata": {
  "kernelspec": {
   "display_name": "Python 3 (ipykernel)",
   "language": "python",
   "name": "python3"
  },
  "language_info": {
   "codemirror_mode": {
    "name": "ipython",
    "version": 3
   },
   "file_extension": ".py",
   "mimetype": "text/x-python",
   "name": "python",
   "nbconvert_exporter": "python",
   "pygments_lexer": "ipython3",
   "version": "3.9.12"
  }
 },
 "nbformat": 4,
 "nbformat_minor": 5
}
